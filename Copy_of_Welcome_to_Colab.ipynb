{
  "cells": [
    {
      "cell_type": "markdown",
      "metadata": {
        "id": "view-in-github",
        "colab_type": "text"
      },
      "source": [
        "<a href=\"https://colab.research.google.com/github/Rithvickkr/EmpathscoreBOT/blob/main/Copy_of_Welcome_to_Colab.ipynb\" target=\"_parent\"><img src=\"https://colab.research.google.com/assets/colab-badge.svg\" alt=\"Open In Colab\"/></a>"
      ]
    },
    {
      "cell_type": "code",
      "source": [
        "from google.colab import auth\n",
        "auth.authenticate_user()\n"
      ],
      "metadata": {
        "id": "DrQ2VkFUa_kC"
      },
      "execution_count": null,
      "outputs": []
    },
    {
      "cell_type": "code",
      "source": [
        "!gcloud auth application-default login"
      ],
      "metadata": {
        "id": "FiCOUyH9ehc3",
        "outputId": "655d6eec-b71b-47e0-b0a9-0936afe6a956",
        "colab": {
          "base_uri": "https://localhost:8080/"
        }
      },
      "execution_count": null,
      "outputs": [
        {
          "output_type": "stream",
          "name": "stdout",
          "text": [
            "\n",
            "You are running on a Google Compute Engine virtual machine.\n",
            "The service credentials associated with this virtual machine\n",
            "will automatically be used by Application Default\n",
            "Credentials, so it is not necessary to use this command.\n",
            "\n",
            "If you decide to proceed anyway, your user credentials may be visible\n",
            "to others with access to this virtual machine. Are you sure you want\n",
            "to authenticate with your personal account?\n",
            "\n",
            "Do you want to continue (Y/n)?  Y\n",
            "\n",
            "Go to the following link in your browser, and complete the sign-in prompts:\n",
            "\n",
            "    https://accounts.google.com/o/oauth2/auth?response_type=code&client_id=764086051850-6qr4p6gpi6hn506pt8ejuq83di341hur.apps.googleusercontent.com&redirect_uri=https%3A%2F%2Fsdk.cloud.google.com%2Fapplicationdefaultauthcode.html&scope=openid+https%3A%2F%2Fwww.googleapis.com%2Fauth%2Fuserinfo.email+https%3A%2F%2Fwww.googleapis.com%2Fauth%2Fcloud-platform+https%3A%2F%2Fwww.googleapis.com%2Fauth%2Fsqlservice.login&state=orrNoofEj1R6XkWskvbgIkHWOAmIjU&prompt=consent&token_usage=remote&access_type=offline&code_challenge=Jse2rUM1Xjwqcgi2cI3Zt7II13FojVD0mNiZE0TN6l4&code_challenge_method=S256\n",
            "\n",
            "Once finished, enter the verification code provided in your browser: 4/0AVMBsJjqhTidDgOtaLOEeEbh7T5n1yY_FPGF5G5DnhfAsHYtTzRYyIA2n6kBZYEeQldTNQ\n",
            "\n",
            "Credentials saved to file: [/content/.config/application_default_credentials.json]\n",
            "\n",
            "These credentials will be used by any library that requests Application Default Credentials (ADC).\n",
            "\u001b[1;33mWARNING:\u001b[0m \n",
            "Cannot find a quota project to add to ADC. You might receive a \"quota exceeded\" or \"API not enabled\" error. Run $ gcloud auth application-default set-quota-project to add a quota project.\n"
          ]
        }
      ]
    },
    {
      "cell_type": "code",
      "source": [
        "import math\n",
        "import time\n",
        "import random\n",
        "from google import genai\n",
        "from google.genai import types\n",
        "\n",
        "# E Formula (empathy score calculate karne ke liye)\n",
        "def calculate_empathy_score(D, R, M, C, B, O, alpha=0.3, beta=0.2, gamma=0.25, epsilon=0.15, delta=0.4, zeta=0.3):\n",
        "    inner_sum = epsilon * C + alpha * (D ** 2) + gamma * M + beta * math.log(R + 1)\n",
        "    denominator = math.exp(-inner_sum) + 1\n",
        "    numerator = (1 - B * delta) * (1 - O * zeta)\n",
        "    E = numerator / denominator\n",
        "    return E\n",
        "\n",
        "# Client setup (tera project aur location)\n",
        "client = genai.Client(\n",
        "    vertexai=True,\n",
        "    project=\"217758598930\",\n",
        "    location=\"us-central1\",\n",
        ")\n",
        "\n",
        "model = \"projects/217758598930/locations/us-central1/endpoints/1940344453420023808\"  # Tera tuned endpoint\n",
        "\n",
        "generate_content_config = types.GenerateContentConfig(\n",
        "    temperature=1,\n",
        "    top_p=1,\n",
        "    seed=0,\n",
        "    max_output_tokens=65535,\n",
        "    safety_settings = [types.SafetySetting(\n",
        "      category=\"HARM_CATEGORY_HATE_SPEECH\",\n",
        "      threshold=\"OFF\"\n",
        "    ),types.SafetySetting(\n",
        "      category=\"HARM_CATEGORY_DANGEROUS_CONTENT\",\n",
        "      threshold=\"OFF\"\n",
        "    ),types.SafetySetting(\n",
        "      category=\"HARM_CATEGORY_SEXUALLY_EXPLICIT\",\n",
        "      threshold=\"OFF\"\n",
        "    ),types.SafetySetting(\n",
        "      category=\"HARM_CATEGORY_HARASSMENT\",\n",
        "      threshold=\"OFF\"\n",
        "    )],\n",
        "    thinking_config=types.ThinkingConfig(\n",
        "      thinking_budget=-1,\n",
        "    ),\n",
        ")\n",
        "\n",
        "class HumanLikeChatbot:\n",
        "    def __init__(self):\n",
        "        self.history = []  # Memory for relational depth R\n",
        "\n",
        "    def respond(self, message):\n",
        "        contents = [\n",
        "            types.Content(\n",
        "                role=\"user\",\n",
        "                parts=[\n",
        "                    types.Part.from_text(text=message)\n",
        "                ]\n",
        "            ),\n",
        "        ]\n",
        "\n",
        "        base_resp = \"\"\n",
        "        for chunk in client.models.generate_content_stream(\n",
        "            model=model,\n",
        "            contents=contents,\n",
        "            config=generate_content_config,\n",
        "        ):\n",
        "            base_resp += chunk.text\n",
        "\n",
        "        # Dummy values for E (real mein classifiers se le—D from model confidence, etc.)\n",
        "        D = 0.9  # Detection confidence (replace with actual if model gives)\n",
        "        R = len(self.history)\n",
        "        M = 0.95  # Moral (dummy)\n",
        "        C = 0.8  # Cultural (dummy)\n",
        "        B = 0.1  # Bias (dummy)\n",
        "        O = 0.0  # Oversight (dummy)\n",
        "        score = calculate_empathy_score(D, R, M, C, B, O)\n",
        "\n",
        "        # Add pause for realism\n",
        "        print(\"...\", end=\"\", flush=True)\n",
        "        time.sleep(random.uniform(1, 2.5))\n",
        "\n",
        "        if R > 0:\n",
        "            base_resp += f\" Yaad hai pehle {self.history[-1][:20]} pe feel kiya tha?\"\n",
        "\n",
        "        self.history.append(message)\n",
        "        return f\"{base_resp} (E Score: {score:.2f})\"\n",
        "\n",
        "# Demo loop\n",
        "bot = HumanLikeChatbot()\n",
        "print(\"Chal, baat kar! 'exit' se ruk.\")\n",
        "while True:\n",
        "    user_input = input(\"Tu: \")\n",
        "    if user_input.lower() == 'exit':\n",
        "        break\n",
        "    print(\"Bot: \" + bot.respond(user_input))"
      ],
      "metadata": {
        "id": "IV9_VjyTfumV",
        "outputId": "6f0a1ef7-3917-4a3a-a4bd-6db8c76646d3",
        "colab": {
          "base_uri": "https://localhost:8080/",
          "height": 706
        }
      },
      "execution_count": null,
      "outputs": [
        {
          "name": "stdout",
          "output_type": "stream",
          "text": [
            "Chal, baat kar! 'exit' se ruk.\n",
            "Tu: hello bhai i broke my friendship\n"
          ]
        },
        {
          "output_type": "stream",
          "name": "stderr",
          "text": [
            "/usr/local/lib/python3.11/dist-packages/google/auth/_default.py:76: UserWarning: Your application has authenticated using end user credentials from Google Cloud SDK without a quota project. You might receive a \"quota exceeded\" or \"API not enabled\" error. See the following page for troubleshooting: https://cloud.google.com/docs/authentication/adc-troubleshooting/user-creds. \n",
            "  warnings.warn(_CLOUD_SDK_CREDENTIALS_WARNING)\n"
          ]
        },
        {
          "output_type": "stream",
          "name": "stdout",
          "text": [
            "...Bot: disappointment, sadness (E Score: 0.62)\n",
            "Tu: meinein apni dosti todh li yr\n",
            "...Bot: sadness Yaad hai pehle hello bhai i broke m pe feel kiya tha? (E Score: 0.65)\n",
            "Tu: bro he made me so angry\n",
            "...Bot: anger Yaad hai pehle meinein apni dosti t pe feel kiya tha? (E Score: 0.67)\n",
            "Tu: yess i know but i bought a new car\n",
            "...Bot: approval Yaad hai pehle bro he made me so an pe feel kiya tha? (E Score: 0.68)\n",
            "Tu: i just made a new friend\n",
            "...Bot: gratitude, joy Yaad hai pehle yess i know but i bo pe feel kiya tha? (E Score: 0.69)\n",
            "Tu: h\n",
            "...Bot: approval Yaad hai pehle i just made a new fr pe feel kiya tha? (E Score: 0.69)\n",
            "Tu: h\n",
            "...Bot: approval Yaad hai pehle h pe feel kiya tha? (E Score: 0.70)\n",
            "Tu: ab rona aarha hai\n",
            "...Bot: sadness Yaad hai pehle h pe feel kiya tha? (E Score: 0.70)\n"
          ]
        },
        {
          "output_type": "error",
          "ename": "KeyboardInterrupt",
          "evalue": "Interrupted by user",
          "traceback": [
            "\u001b[0;31m---------------------------------------------------------------------------\u001b[0m",
            "\u001b[0;31mKeyboardInterrupt\u001b[0m                         Traceback (most recent call last)",
            "\u001b[0;32m/tmp/ipython-input-27-2654973400.py\u001b[0m in \u001b[0;36m<cell line: 0>\u001b[0;34m()\u001b[0m\n\u001b[1;32m     90\u001b[0m \u001b[0mprint\u001b[0m\u001b[0;34m(\u001b[0m\u001b[0;34m\"Chal, baat kar! 'exit' se ruk.\"\u001b[0m\u001b[0;34m)\u001b[0m\u001b[0;34m\u001b[0m\u001b[0;34m\u001b[0m\u001b[0m\n\u001b[1;32m     91\u001b[0m \u001b[0;32mwhile\u001b[0m \u001b[0;32mTrue\u001b[0m\u001b[0;34m:\u001b[0m\u001b[0;34m\u001b[0m\u001b[0;34m\u001b[0m\u001b[0m\n\u001b[0;32m---> 92\u001b[0;31m     \u001b[0muser_input\u001b[0m \u001b[0;34m=\u001b[0m \u001b[0minput\u001b[0m\u001b[0;34m(\u001b[0m\u001b[0;34m\"Tu: \"\u001b[0m\u001b[0;34m)\u001b[0m\u001b[0;34m\u001b[0m\u001b[0;34m\u001b[0m\u001b[0m\n\u001b[0m\u001b[1;32m     93\u001b[0m     \u001b[0;32mif\u001b[0m \u001b[0muser_input\u001b[0m\u001b[0;34m.\u001b[0m\u001b[0mlower\u001b[0m\u001b[0;34m(\u001b[0m\u001b[0;34m)\u001b[0m \u001b[0;34m==\u001b[0m \u001b[0;34m'exit'\u001b[0m\u001b[0;34m:\u001b[0m\u001b[0;34m\u001b[0m\u001b[0;34m\u001b[0m\u001b[0m\n\u001b[1;32m     94\u001b[0m         \u001b[0;32mbreak\u001b[0m\u001b[0;34m\u001b[0m\u001b[0;34m\u001b[0m\u001b[0m\n",
            "\u001b[0;32m/usr/local/lib/python3.11/dist-packages/ipykernel/kernelbase.py\u001b[0m in \u001b[0;36mraw_input\u001b[0;34m(self, prompt)\u001b[0m\n\u001b[1;32m   1175\u001b[0m                 \u001b[0;34m\"raw_input was called, but this frontend does not support input requests.\"\u001b[0m\u001b[0;34m\u001b[0m\u001b[0;34m\u001b[0m\u001b[0m\n\u001b[1;32m   1176\u001b[0m             )\n\u001b[0;32m-> 1177\u001b[0;31m         return self._input_request(\n\u001b[0m\u001b[1;32m   1178\u001b[0m             \u001b[0mstr\u001b[0m\u001b[0;34m(\u001b[0m\u001b[0mprompt\u001b[0m\u001b[0;34m)\u001b[0m\u001b[0;34m,\u001b[0m\u001b[0;34m\u001b[0m\u001b[0;34m\u001b[0m\u001b[0m\n\u001b[1;32m   1179\u001b[0m             \u001b[0mself\u001b[0m\u001b[0;34m.\u001b[0m\u001b[0m_parent_ident\u001b[0m\u001b[0;34m[\u001b[0m\u001b[0;34m\"shell\"\u001b[0m\u001b[0;34m]\u001b[0m\u001b[0;34m,\u001b[0m\u001b[0;34m\u001b[0m\u001b[0;34m\u001b[0m\u001b[0m\n",
            "\u001b[0;32m/usr/local/lib/python3.11/dist-packages/ipykernel/kernelbase.py\u001b[0m in \u001b[0;36m_input_request\u001b[0;34m(self, prompt, ident, parent, password)\u001b[0m\n\u001b[1;32m   1217\u001b[0m             \u001b[0;32mexcept\u001b[0m \u001b[0mKeyboardInterrupt\u001b[0m\u001b[0;34m:\u001b[0m\u001b[0;34m\u001b[0m\u001b[0;34m\u001b[0m\u001b[0m\n\u001b[1;32m   1218\u001b[0m                 \u001b[0;31m# re-raise KeyboardInterrupt, to truncate traceback\u001b[0m\u001b[0;34m\u001b[0m\u001b[0;34m\u001b[0m\u001b[0m\n\u001b[0;32m-> 1219\u001b[0;31m                 \u001b[0;32mraise\u001b[0m \u001b[0mKeyboardInterrupt\u001b[0m\u001b[0;34m(\u001b[0m\u001b[0;34m\"Interrupted by user\"\u001b[0m\u001b[0;34m)\u001b[0m \u001b[0;32mfrom\u001b[0m \u001b[0;32mNone\u001b[0m\u001b[0;34m\u001b[0m\u001b[0;34m\u001b[0m\u001b[0m\n\u001b[0m\u001b[1;32m   1220\u001b[0m             \u001b[0;32mexcept\u001b[0m \u001b[0mException\u001b[0m\u001b[0;34m:\u001b[0m\u001b[0;34m\u001b[0m\u001b[0;34m\u001b[0m\u001b[0m\n\u001b[1;32m   1221\u001b[0m                 \u001b[0mself\u001b[0m\u001b[0;34m.\u001b[0m\u001b[0mlog\u001b[0m\u001b[0;34m.\u001b[0m\u001b[0mwarning\u001b[0m\u001b[0;34m(\u001b[0m\u001b[0;34m\"Invalid Message:\"\u001b[0m\u001b[0;34m,\u001b[0m \u001b[0mexc_info\u001b[0m\u001b[0;34m=\u001b[0m\u001b[0;32mTrue\u001b[0m\u001b[0;34m)\u001b[0m\u001b[0;34m\u001b[0m\u001b[0;34m\u001b[0m\u001b[0m\n",
            "\u001b[0;31mKeyboardInterrupt\u001b[0m: Interrupted by user"
          ]
        }
      ]
    }
  ],
  "metadata": {
    "colab": {
      "provenance": [],
      "include_colab_link": true
    },
    "kernelspec": {
      "display_name": "Python 3",
      "name": "python3"
    }
  },
  "nbformat": 4,
  "nbformat_minor": 0
}