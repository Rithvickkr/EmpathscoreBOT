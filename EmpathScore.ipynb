{
  "cells": [
    {
      "cell_type": "markdown",
      "metadata": {
        "id": "view-in-github",
        "colab_type": "text"
      },
      "source": [
        "<a href=\"https://colab.research.google.com/github/Rithvickkr/EmpathscoreBOT/blob/main/EmpathScore.ipynb\" target=\"_parent\"><img src=\"https://colab.research.google.com/assets/colab-badge.svg\" alt=\"Open In Colab\"/></a>"
      ]
    },
    {
      "cell_type": "code",
      "source": [
        "from google.colab import auth\n",
        "auth.authenticate_user()"
      ],
      "metadata": {
        "id": "eLZoKiW8YHP3"
      },
      "execution_count": 8,
      "outputs": []
    },
    {
      "cell_type": "code",
      "source": [
        "import math\n",
        "import time\n",
        "import random\n",
        "from google import genai\n",
        "from google.genai import types\n",
        "\n",
        "# E Formula (empathy score calculate karne ke liye)\n",
        "def calculate_empathy_score(D, R, M, C, B, O, alpha=0.3, beta=0.2, gamma=0.25, epsilon=0.15, delta=0.4, zeta=0.3):\n",
        "    inner_sum = epsilon * C + alpha * (D ** 2) + gamma * M + beta * math.log(R + 1)\n",
        "    denominator = math.exp(-inner_sum) + 1\n",
        "    numerator = (1 - B * delta) * (1 - O * zeta)\n",
        "    E = numerator / denominator\n",
        "    return E\n",
        "\n",
        "# Client setup (tera project aur location)\n",
        "client = genai.Client(\n",
        "    vertexai=True,\n",
        "    project=\"217758598930\",\n",
        "    location=\"us-central1\",\n",
        ")\n",
        "\n",
        "model = \"projects/217758598930/locations/us-central1/endpoints/1940344453420023808\"  # Tera tuned endpoint\n",
        "\n",
        "generate_content_config = types.GenerateContentConfig(\n",
        "    temperature=1,\n",
        "    top_p=1,\n",
        "    seed=0,\n",
        "    max_output_tokens=65535,\n",
        "    safety_settings = [types.SafetySetting(\n",
        "      category=\"HARM_CATEGORY_HATE_SPEECH\",\n",
        "      threshold=\"OFF\"\n",
        "    ),types.SafetySetting(\n",
        "      category=\"HARM_CATEGORY_DANGEROUS_CONTENT\",\n",
        "      threshold=\"OFF\"\n",
        "    ),types.SafetySetting(\n",
        "      category=\"HARM_CATEGORY_SEXUALLY_EXPLICIT\",\n",
        "      threshold=\"OFF\"\n",
        "    ),types.SafetySetting(\n",
        "      category=\"HARM_CATEGORY_HARASSMENT\",\n",
        "      threshold=\"OFF\"\n",
        "    )],\n",
        "    thinking_config=types.ThinkingConfig(\n",
        "      thinking_budget=-1,\n",
        "    ),\n",
        ")\n",
        "\n",
        "class HumanLikeChatbot:\n",
        "    def __init__(self):\n",
        "        self.history = []  # Memory for relational depth R\n",
        "\n",
        "    def respond(self, message):\n",
        "        contents = [\n",
        "            types.Content(\n",
        "                role=\"user\",\n",
        "                parts=[\n",
        "                    types.Part.from_text(text=message)\n",
        "                ]\n",
        "            ),\n",
        "        ]\n",
        "\n",
        "        base_resp = \"\"\n",
        "        for chunk in client.models.generate_content_stream(\n",
        "            model=model,\n",
        "            contents=contents,\n",
        "            config=generate_content_config,\n",
        "        ):\n",
        "            base_resp += chunk.text\n",
        "\n",
        "        # Dummy values for E (real mein classifiers se le—D from model confidence, etc.)\n",
        "        D = 0.9  # Detection confidence (replace with actual if model gives)\n",
        "        R = len(self.history)\n",
        "        M = 0.95  # Moral (dummy)\n",
        "        C = 0.8  # Cultural (dummy)\n",
        "        B = 0.1  # Bias (dummy)\n",
        "        O = 0.0  # Oversight (dummy)\n",
        "        score = calculate_empathy_score(D, R, M, C, B, O)\n",
        "\n",
        "        # Add pause for realism\n",
        "        print(\"...\", end=\"\", flush=True)\n",
        "        time.sleep(random.uniform(1, 2.5))\n",
        "\n",
        "        if R > 0:\n",
        "            base_resp += f\" Yaad hai pehle {self.history[-1][:20]} pe feel kiya tha?\"\n",
        "\n",
        "        self.history.append(message)\n",
        "        return f\"{base_resp} (E Score: {score:.2f})\"\n",
        "\n",
        "# Demo loop\n",
        "bot = HumanLikeChatbot()\n",
        "print(\"Chal, baat kar! 'exit' se ruk.\")\n",
        "while True:\n",
        "    user_input = input(\"Tu: \")\n",
        "    if user_input.lower() == 'exit':\n",
        "        break\n",
        "    print(\"Bot: \" + bot.respond(user_input))"
      ],
      "metadata": {
        "colab": {
          "base_uri": "https://localhost:8080/"
        },
        "id": "wQv87RmPXLQP",
        "outputId": "9c6bdfd8-4f4a-44e0-ca59-01a4da9b55a7"
      },
      "execution_count": 10,
      "outputs": [
        {
          "name": "stdout",
          "output_type": "stream",
          "text": [
            "Chal, baat kar! 'exit' se ruk.\n",
            "Tu: i am chilling at home\n",
            "...Bot: relaxation (E Score: 0.62)\n",
            "Tu: i am now doing my work \n",
            "...Bot: neutral Yaad hai pehle i am chilling at hom pe feel kiya tha? (E Score: 0.65)\n",
            "Tu: ohh shit my deadline is tomoorow \n",
            "...Bot: annoyance Yaad hai pehle i am now doing my wo pe feel kiya tha? (E Score: 0.67)\n",
            "Tu: shit i failed in givng out woprk\n",
            "...Bot: anger Yaad hai pehle ohh shit my deadline pe feel kiya tha? (E Score: 0.68)\n",
            "Tu: its okay i ll manage\n",
            "...Bot: calmness Yaad hai pehle shit i failed in giv pe feel kiya tha? (E Score: 0.69)\n",
            "Tu: i got fired\n",
            "...Bot: neutral Yaad hai pehle its okay i ll manage pe feel kiya tha? (E Score: 0.69)\n",
            "Tu: i got fired from jobn\n",
            "...Bot: grief, sadness Yaad hai pehle i got fired pe feel kiya tha? (E Score: 0.70)\n",
            "Tu: i am so in pain\\\n",
            "...Bot: neutral Yaad hai pehle i got fired from job pe feel kiya tha? (E Score: 0.70)\n",
            "Tu: i am so in pain\n",
            "...Bot: pain Yaad hai pehle i am so in pain\\ pe feel kiya tha? (E Score: 0.71)\n",
            "Tu: i feel so so like a losser\n",
            "...Bot: sadness Yaad hai pehle i am so in pain pe feel kiya tha? (E Score: 0.71)\n",
            "Tu: i feel like i am use less\n",
            "...Bot: sadness Yaad hai pehle i feel so so like a  pe feel kiya tha? (E Score: 0.72)\n",
            "Tu: exit\n"
          ]
        }
      ]
    }
  ],
  "metadata": {
    "colab": {
      "provenance": [],
      "toc_visible": true,
      "include_colab_link": true
    },
    "kernelspec": {
      "display_name": "Python 3",
      "name": "python3"
    }
  },
  "nbformat": 4,
  "nbformat_minor": 0
}